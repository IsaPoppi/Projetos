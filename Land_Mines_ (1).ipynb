{
  "cells": [
    {
      "cell_type": "markdown",
      "metadata": {},
      "source": [
        "MINAS TERRESTRES "
      ]
    },
    {
      "cell_type": "markdown",
      "metadata": {},
      "source": [
        "O presente trabalho tem como objetivo aplicar técnicas de aprendizado de máquina para a resolução de problemas de classificação binária, utilizando um conjunto de dados relacionado à identificação de minas terrestres. A análise envolve o uso de diferentes algoritmos, incluindo KNN, Naive Bayes, Redes Neurais, SVM, Random Forest e Árvores de Decisão, avaliando suas performances por meio de métricas preditivas e validações estatísticas.\n",
        "\n",
        "Durante o desenvolvimento, foram abordadas etapas essenciais, como o pré-processamento de dados para garantir sua qualidade, a divisão em conjuntos de treino e teste, e a validação por meio de matrizes de confusão e métricas de desempenho. Este estudo busca identificar o modelo mais eficaz para o problema proposto, destacando a importância de técnicas robustas na detecção de padrões críticos, como aqueles relacionados a minas terrestres.\n",
        "\n",
        "Os resultados obtidos fornecem insights relevantes sobre a eficácia dos modelos em cenários reais, contribuindo para avanços em aplicações práticas de aprendizado de máquina em áreas de segurança e engenharia."
      ]
    },
    {
      "cell_type": "markdown",
      "metadata": {
        "id": "TmelmNLvO18c"
      },
      "source": [
        "---\n",
        "\n",
        "Pré-processamento dos dados:"
      ]
    },
    {
      "cell_type": "code",
      "execution_count": 26,
      "metadata": {
        "id": "M15jpHO96gU4"
      },
      "outputs": [],
      "source": [
        "import pandas as pd"
      ]
    },
    {
      "cell_type": "code",
      "execution_count": 27,
      "metadata": {
        "id": "wYR6A-bY63X_"
      },
      "outputs": [],
      "source": [
        "df = pd.read_csv('/content/Land mines.csv')"
      ]
    },
    {
      "cell_type": "code",
      "execution_count": 28,
      "metadata": {
        "id": "Lk7PvCtO8Gvw"
      },
      "outputs": [],
      "source": [
        "df_multiclasse = df[df['M'] != 1]"
      ]
    },
    {
      "cell_type": "code",
      "execution_count": 29,
      "metadata": {
        "id": "_-sWltFc8bOB"
      },
      "outputs": [],
      "source": [
        "df_binario = df.copy()"
      ]
    },
    {
      "cell_type": "code",
      "execution_count": 30,
      "metadata": {
        "id": "iSQmp_2b97mi"
      },
      "outputs": [],
      "source": [
        "def mina_ou_nao(x):\n",
        "    if x == 1:\n",
        "      return 0 # Não é mina terrestre\n",
        "    else:\n",
        "      return 1 # é mina terrestre"
      ]
    },
    {
      "cell_type": "code",
      "execution_count": 31,
      "metadata": {
        "id": "JoCSjDgq83dp"
      },
      "outputs": [],
      "source": [
        "df_binario['M'] = df_binario['M'].apply(mina_ou_nao)"
      ]
    },
    {
      "cell_type": "code",
      "execution_count": 32,
      "metadata": {
        "id": "M6kFb3_iGUIA"
      },
      "outputs": [],
      "source": [
        "# Renomear as colunas para melhor entendimento\n",
        "df_binario.columns = ['Voltage', 'Height', 'SoilType', 'MineType']\n",
        "df_multiclasse.columns = ['Voltage', 'Height', 'SoilType', 'MineType']\n",
        "\n",
        "# Separar variáveis preditoras (X) e alvo (y) para ambos os casos\n",
        "X_binario = df_binario[['Voltage', 'Height', 'SoilType']]\n",
        "y_binario = df_binario['MineType']\n",
        "\n",
        "X_multiclass = df_multiclasse[['Voltage', 'Height', 'SoilType']]\n",
        "y_multiclass = df_multiclasse['MineType']\n",
        "\n"
      ]
    },
    {
      "cell_type": "markdown",
      "metadata": {
        "id": "5z4vyPlJO9xb"
      },
      "source": [
        "---\n",
        "Divisão da base de treino e teste:"
      ]
    },
    {
      "cell_type": "code",
      "execution_count": 33,
      "metadata": {
        "colab": {
          "base_uri": "https://localhost:8080/"
        },
        "id": "L2tZoETxO9SL",
        "outputId": "fa8af6e3-39f3-4861-99cc-2a70fcfb9452"
      },
      "outputs": [
        {
          "data": {
            "text/plain": [
              "{'Treino Binário (X e y)': ((270, 3), (270,)),\n",
              " 'Teste Binário (X e y)': ((68, 3), (68,)),\n",
              " 'Treino Multiclasse (X e y)': ((213, 3), (213,)),\n",
              " 'Teste Multiclasse (X e y)': ((54, 3), (54,))}"
            ]
          },
          "execution_count": 33,
          "metadata": {},
          "output_type": "execute_result"
        }
      ],
      "source": [
        "# Dividir a base de treino e teste (80% treino, 20% teste)\n",
        "from sklearn.model_selection import train_test_split\n",
        "X_train_bin, X_test_bin, y_train_bin, y_test_bin = train_test_split(\n",
        "    X_binario, y_binario, test_size=0.2, random_state=42\n",
        ")\n",
        "X_train_mc, X_test_mc, y_train_mc, y_test_mc = train_test_split(\n",
        "    X_multiclass, y_multiclass, test_size=0.2, random_state=42\n",
        ")\n",
        "\n",
        "# Padronizar os dados\n",
        "from sklearn.preprocessing import StandardScaler\n",
        "scaler = StandardScaler()\n",
        "\n",
        "# Para modelo binário\n",
        "X_train_bin_scaled = scaler.fit_transform(X_train_bin)\n",
        "X_test_bin_scaled = scaler.transform(X_test_bin)\n",
        "\n",
        "# Para modelo multiclasse\n",
        "X_train_mc_scaled = scaler.fit_transform(X_train_mc)\n",
        "X_test_mc_scaled = scaler.transform(X_test_mc)\n",
        "\n",
        "# Exibir os tamanhos das divisões\n",
        "{\n",
        "    \"Treino Binário (X e y)\": (X_train_bin.shape, y_train_bin.shape),\n",
        "    \"Teste Binário (X e y)\": (X_test_bin.shape, y_test_bin.shape),\n",
        "    \"Treino Multiclasse (X e y)\": (X_train_mc.shape, y_train_mc.shape),\n",
        "    \"Teste Multiclasse (X e y)\": (X_test_mc.shape, y_test_mc.shape),\n",
        "}\n"
      ]
    },
    {
      "cell_type": "markdown",
      "metadata": {
        "id": "7737Vi58PD9g"
      },
      "source": [
        "---\n",
        "Modelagem do Modelo Preditivo (Testar os modelos utilizados na disciplina: KNN, Naive Bayes, Redes neurais, SVM, Random Forest e Arvores de Decisão) e\n",
        "Validação (métricas e matriz de confusão):"
      ]
    },
    {
      "cell_type": "code",
      "execution_count": 34,
      "metadata": {
        "colab": {
          "base_uri": "https://localhost:8080/"
        },
        "id": "omCUyM4gHHd3",
        "outputId": "3facb476-35e8-4c11-af9c-adaf170a43a1"
      },
      "outputs": [
        {
          "name": "stdout",
          "output_type": "stream",
          "text": [
            "KNN - Classificação Binária\n",
            "[[ 5  6]\n",
            " [ 3 54]]\n",
            "              precision    recall  f1-score   support\n",
            "\n",
            "           0       0.62      0.45      0.53        11\n",
            "           1       0.90      0.95      0.92        57\n",
            "\n",
            "    accuracy                           0.87        68\n",
            "   macro avg       0.76      0.70      0.72        68\n",
            "weighted avg       0.86      0.87      0.86        68\n",
            "\n"
          ]
        }
      ],
      "source": [
        "from sklearn.neighbors import KNeighborsClassifier\n",
        "from sklearn.metrics import classification_report, confusion_matrix\n",
        "\n",
        "# Modelo KNN - Classificação Binária\n",
        "knn_bin = KNeighborsClassifier(n_neighbors=5)\n",
        "knn_bin.fit(X_train_bin_scaled, y_train_bin)\n",
        "y_pred_bin_knn = knn_bin.predict(X_test_bin_scaled)\n",
        "\n",
        "print(\"KNN - Classificação Binária\")\n",
        "print(confusion_matrix(y_test_bin, y_pred_bin_knn))\n",
        "print(classification_report(y_test_bin, y_pred_bin_knn))\n"
      ]
    },
    {
      "cell_type": "code",
      "execution_count": 35,
      "metadata": {
        "colab": {
          "base_uri": "https://localhost:8080/"
        },
        "id": "y2uQWlm9HR17",
        "outputId": "83f861c0-b38e-423e-c8d2-dda9cc9efb83"
      },
      "outputs": [
        {
          "name": "stdout",
          "output_type": "stream",
          "text": [
            "KNN - Classificação Multiclasse\n",
            "[[12  1  3  0]\n",
            " [ 0  3  2  4]\n",
            " [ 1  6  6  4]\n",
            " [ 0 11  0  1]]\n",
            "              precision    recall  f1-score   support\n",
            "\n",
            "           2       0.92      0.75      0.83        16\n",
            "           3       0.14      0.33      0.20         9\n",
            "           4       0.55      0.35      0.43        17\n",
            "           5       0.11      0.08      0.10        12\n",
            "\n",
            "    accuracy                           0.41        54\n",
            "   macro avg       0.43      0.38      0.39        54\n",
            "weighted avg       0.49      0.41      0.43        54\n",
            "\n"
          ]
        }
      ],
      "source": [
        "# Modelo KNN - Classificação Multiclasse\n",
        "knn_mc = KNeighborsClassifier(n_neighbors=5)\n",
        "knn_mc.fit(X_train_mc_scaled, y_train_mc)\n",
        "y_pred_mc_knn = knn_mc.predict(X_test_mc_scaled)\n",
        "\n",
        "print(\"KNN - Classificação Multiclasse\")\n",
        "print(confusion_matrix(y_test_mc, y_pred_mc_knn))\n",
        "print(classification_report(y_test_mc, y_pred_mc_knn))\n"
      ]
    },
    {
      "cell_type": "code",
      "execution_count": 36,
      "metadata": {
        "colab": {
          "base_uri": "https://localhost:8080/"
        },
        "id": "NHg3vKp3HUeK",
        "outputId": "7f058035-b5c2-4052-bc8d-5ca151fdebdf"
      },
      "outputs": [
        {
          "name": "stdout",
          "output_type": "stream",
          "text": [
            "Naive Bayes - Classificação Binária\n",
            "[[ 9  2]\n",
            " [12 45]]\n",
            "              precision    recall  f1-score   support\n",
            "\n",
            "           0       0.43      0.82      0.56        11\n",
            "           1       0.96      0.79      0.87        57\n",
            "\n",
            "    accuracy                           0.79        68\n",
            "   macro avg       0.69      0.80      0.71        68\n",
            "weighted avg       0.87      0.79      0.82        68\n",
            "\n"
          ]
        }
      ],
      "source": [
        "from sklearn.naive_bayes import GaussianNB\n",
        "\n",
        "# Modelo Naive Bayes - Classificação Binária\n",
        "nb_bin = GaussianNB()\n",
        "nb_bin.fit(X_train_bin_scaled, y_train_bin)\n",
        "y_pred_bin_nb = nb_bin.predict(X_test_bin_scaled)\n",
        "\n",
        "print(\"Naive Bayes - Classificação Binária\")\n",
        "print(confusion_matrix(y_test_bin, y_pred_bin_nb))\n",
        "print(classification_report(y_test_bin, y_pred_bin_nb))\n"
      ]
    },
    {
      "cell_type": "code",
      "execution_count": 37,
      "metadata": {
        "colab": {
          "base_uri": "https://localhost:8080/"
        },
        "id": "vUmKNfweHXDe",
        "outputId": "d7fb8053-440b-49a1-fe39-a63e411c1524"
      },
      "outputs": [
        {
          "name": "stdout",
          "output_type": "stream",
          "text": [
            "Naive Bayes - Classificação Multiclasse\n",
            "[[ 9  4  0  3]\n",
            " [ 1  1  0  7]\n",
            " [ 0  3 11  3]\n",
            " [ 1  1  3  7]]\n",
            "              precision    recall  f1-score   support\n",
            "\n",
            "           2       0.82      0.56      0.67        16\n",
            "           3       0.11      0.11      0.11         9\n",
            "           4       0.79      0.65      0.71        17\n",
            "           5       0.35      0.58      0.44        12\n",
            "\n",
            "    accuracy                           0.52        54\n",
            "   macro avg       0.52      0.48      0.48        54\n",
            "weighted avg       0.59      0.52      0.54        54\n",
            "\n"
          ]
        }
      ],
      "source": [
        "# Modelo Naive Bayes - Classificação Multiclasse\n",
        "nb_mc = GaussianNB()\n",
        "nb_mc.fit(X_train_mc_scaled, y_train_mc)\n",
        "y_pred_mc_nb = nb_mc.predict(X_test_mc_scaled)\n",
        "\n",
        "print(\"Naive Bayes - Classificação Multiclasse\")\n",
        "print(confusion_matrix(y_test_mc, y_pred_mc_nb))\n",
        "print(classification_report(y_test_mc, y_pred_mc_nb))\n"
      ]
    },
    {
      "cell_type": "code",
      "execution_count": 38,
      "metadata": {
        "colab": {
          "base_uri": "https://localhost:8080/"
        },
        "id": "ar1CsJheHZ--",
        "outputId": "65630ed2-2de1-4311-96ec-80cc36a1237a"
      },
      "outputs": [
        {
          "name": "stdout",
          "output_type": "stream",
          "text": [
            "Redes Neurais - Classificação Binária\n",
            "[[ 9  2]\n",
            " [ 5 52]]\n",
            "              precision    recall  f1-score   support\n",
            "\n",
            "           0       0.64      0.82      0.72        11\n",
            "           1       0.96      0.91      0.94        57\n",
            "\n",
            "    accuracy                           0.90        68\n",
            "   macro avg       0.80      0.87      0.83        68\n",
            "weighted avg       0.91      0.90      0.90        68\n",
            "\n"
          ]
        },
        {
          "name": "stderr",
          "output_type": "stream",
          "text": [
            "/usr/local/lib/python3.10/dist-packages/sklearn/neural_network/_multilayer_perceptron.py:690: ConvergenceWarning: Stochastic Optimizer: Maximum iterations (300) reached and the optimization hasn't converged yet.\n",
            "  warnings.warn(\n"
          ]
        }
      ],
      "source": [
        "from sklearn.neural_network import MLPClassifier\n",
        "\n",
        "# Modelo Redes Neurais - Classificação Binária\n",
        "mlp_bin = MLPClassifier(random_state=42, max_iter=300)\n",
        "mlp_bin.fit(X_train_bin_scaled, y_train_bin)\n",
        "y_pred_bin_mlp = mlp_bin.predict(X_test_bin_scaled)\n",
        "\n",
        "print(\"Redes Neurais - Classificação Binária\")\n",
        "print(confusion_matrix(y_test_bin, y_pred_bin_mlp))\n",
        "print(classification_report(y_test_bin, y_pred_bin_mlp))\n"
      ]
    },
    {
      "cell_type": "code",
      "execution_count": 39,
      "metadata": {
        "colab": {
          "base_uri": "https://localhost:8080/"
        },
        "id": "kml1X06tHhnP",
        "outputId": "ea44ea27-bb0a-4f0a-e962-7aa3e2145eaa"
      },
      "outputs": [
        {
          "name": "stdout",
          "output_type": "stream",
          "text": [
            "Redes Neurais - Classificação Multiclasse\n",
            "[[16  0  0  0]\n",
            " [ 0  3  0  6]\n",
            " [ 0  4 11  2]\n",
            " [ 0  8  2  2]]\n",
            "              precision    recall  f1-score   support\n",
            "\n",
            "           2       1.00      1.00      1.00        16\n",
            "           3       0.20      0.33      0.25         9\n",
            "           4       0.85      0.65      0.73        17\n",
            "           5       0.20      0.17      0.18        12\n",
            "\n",
            "    accuracy                           0.59        54\n",
            "   macro avg       0.56      0.54      0.54        54\n",
            "weighted avg       0.64      0.59      0.61        54\n",
            "\n"
          ]
        },
        {
          "name": "stderr",
          "output_type": "stream",
          "text": [
            "/usr/local/lib/python3.10/dist-packages/sklearn/neural_network/_multilayer_perceptron.py:690: ConvergenceWarning: Stochastic Optimizer: Maximum iterations (300) reached and the optimization hasn't converged yet.\n",
            "  warnings.warn(\n"
          ]
        }
      ],
      "source": [
        "# Modelo Redes Neurais - Classificação Multiclasse\n",
        "mlp_mc = MLPClassifier(random_state=42, max_iter=300)\n",
        "mlp_mc.fit(X_train_mc_scaled, y_train_mc)\n",
        "y_pred_mc_mlp = mlp_mc.predict(X_test_mc_scaled)\n",
        "\n",
        "print(\"Redes Neurais - Classificação Multiclasse\")\n",
        "print(confusion_matrix(y_test_mc, y_pred_mc_mlp))\n",
        "print(classification_report(y_test_mc, y_pred_mc_mlp))\n"
      ]
    },
    {
      "cell_type": "code",
      "execution_count": 40,
      "metadata": {
        "colab": {
          "base_uri": "https://localhost:8080/"
        },
        "id": "wLmNX3_PHvLT",
        "outputId": "c403ee25-e2ef-47da-f47d-fa0feea86fd9"
      },
      "outputs": [
        {
          "name": "stdout",
          "output_type": "stream",
          "text": [
            "SVM - Classificação Binária\n",
            "[[ 9  2]\n",
            " [ 5 52]]\n",
            "              precision    recall  f1-score   support\n",
            "\n",
            "           0       0.64      0.82      0.72        11\n",
            "           1       0.96      0.91      0.94        57\n",
            "\n",
            "    accuracy                           0.90        68\n",
            "   macro avg       0.80      0.87      0.83        68\n",
            "weighted avg       0.91      0.90      0.90        68\n",
            "\n"
          ]
        }
      ],
      "source": [
        "from sklearn.svm import SVC\n",
        "\n",
        "# Modelo SVM - Classificação Binária\n",
        "svm_bin = SVC(kernel='linear', random_state=42)\n",
        "svm_bin.fit(X_train_bin_scaled, y_train_bin)\n",
        "y_pred_bin_svm = svm_bin.predict(X_test_bin_scaled)\n",
        "\n",
        "print(\"SVM - Classificação Binária\")\n",
        "print(confusion_matrix(y_test_bin, y_pred_bin_svm))\n",
        "print(classification_report(y_test_bin, y_pred_bin_svm))\n"
      ]
    },
    {
      "cell_type": "code",
      "execution_count": 41,
      "metadata": {
        "colab": {
          "base_uri": "https://localhost:8080/"
        },
        "id": "_IQN563nHwOs",
        "outputId": "73c0fded-280f-4ad6-f985-3f89974d369f"
      },
      "outputs": [
        {
          "name": "stdout",
          "output_type": "stream",
          "text": [
            "SVM - Classificação Multiclasse\n",
            "[[15  1  0  0]\n",
            " [ 0  2  0  7]\n",
            " [ 0  5 10  2]\n",
            " [ 0 10  0  2]]\n",
            "              precision    recall  f1-score   support\n",
            "\n",
            "           2       1.00      0.94      0.97        16\n",
            "           3       0.11      0.22      0.15         9\n",
            "           4       1.00      0.59      0.74        17\n",
            "           5       0.18      0.17      0.17        12\n",
            "\n",
            "    accuracy                           0.54        54\n",
            "   macro avg       0.57      0.48      0.51        54\n",
            "weighted avg       0.67      0.54      0.58        54\n",
            "\n"
          ]
        }
      ],
      "source": [
        "# Modelo SVM - Classificação Multiclasse\n",
        "svm_mc = SVC(kernel='linear', random_state=42)\n",
        "svm_mc.fit(X_train_mc_scaled, y_train_mc)\n",
        "y_pred_mc_svm = svm_mc.predict(X_test_mc_scaled)\n",
        "\n",
        "print(\"SVM - Classificação Multiclasse\")\n",
        "print(confusion_matrix(y_test_mc, y_pred_mc_svm))\n",
        "print(classification_report(y_test_mc, y_pred_mc_svm))\n"
      ]
    },
    {
      "cell_type": "code",
      "execution_count": 42,
      "metadata": {
        "colab": {
          "base_uri": "https://localhost:8080/"
        },
        "id": "q7ht-B2KH2AK",
        "outputId": "bcc55efc-fb84-4d01-c0bb-299b93e3a8b7"
      },
      "outputs": [
        {
          "name": "stdout",
          "output_type": "stream",
          "text": [
            "Random Forest - Classificação Binária\n",
            "[[ 9  2]\n",
            " [ 4 53]]\n",
            "              precision    recall  f1-score   support\n",
            "\n",
            "           0       0.69      0.82      0.75        11\n",
            "           1       0.96      0.93      0.95        57\n",
            "\n",
            "    accuracy                           0.91        68\n",
            "   macro avg       0.83      0.87      0.85        68\n",
            "weighted avg       0.92      0.91      0.91        68\n",
            "\n"
          ]
        }
      ],
      "source": [
        "from sklearn.ensemble import RandomForestClassifier\n",
        "\n",
        "# Modelo Random Forest - Classificação Binária\n",
        "rf_bin = RandomForestClassifier(random_state=42)\n",
        "rf_bin.fit(X_train_bin_scaled, y_train_bin)\n",
        "y_pred_bin_rf = rf_bin.predict(X_test_bin_scaled)\n",
        "\n",
        "print(\"Random Forest - Classificação Binária\")\n",
        "print(confusion_matrix(y_test_bin, y_pred_bin_rf))\n",
        "print(classification_report(y_test_bin, y_pred_bin_rf))\n"
      ]
    },
    {
      "cell_type": "code",
      "execution_count": 43,
      "metadata": {
        "colab": {
          "base_uri": "https://localhost:8080/"
        },
        "id": "jOMnjJJGH22i",
        "outputId": "de393619-f59b-49fc-adb0-b030f0bd2ffa"
      },
      "outputs": [
        {
          "name": "stdout",
          "output_type": "stream",
          "text": [
            "Random Forest - Classificação Multiclasse\n",
            "[[13  0  3  0]\n",
            " [ 0  1  1  7]\n",
            " [ 1  4 10  2]\n",
            " [ 0  7  2  3]]\n",
            "              precision    recall  f1-score   support\n",
            "\n",
            "           2       0.93      0.81      0.87        16\n",
            "           3       0.08      0.11      0.10         9\n",
            "           4       0.62      0.59      0.61        17\n",
            "           5       0.25      0.25      0.25        12\n",
            "\n",
            "    accuracy                           0.50        54\n",
            "   macro avg       0.47      0.44      0.45        54\n",
            "weighted avg       0.54      0.50      0.52        54\n",
            "\n"
          ]
        }
      ],
      "source": [
        "# Modelo Random Forest - Classificação Multiclasse\n",
        "rf_mc = RandomForestClassifier(random_state=42)\n",
        "rf_mc.fit(X_train_mc_scaled, y_train_mc)\n",
        "y_pred_mc_rf = rf_mc.predict(X_test_mc_scaled)\n",
        "\n",
        "print(\"Random Forest - Classificação Multiclasse\")\n",
        "print(confusion_matrix(y_test_mc, y_pred_mc_rf))\n",
        "print(classification_report(y_test_mc, y_pred_mc_rf))\n"
      ]
    },
    {
      "cell_type": "code",
      "execution_count": 44,
      "metadata": {
        "colab": {
          "base_uri": "https://localhost:8080/"
        },
        "id": "552D0JgZJBio",
        "outputId": "3b852b21-92a3-49a4-c62c-eac209a6ee57"
      },
      "outputs": [
        {
          "name": "stdout",
          "output_type": "stream",
          "text": [
            "Árvores de Decisão - Classificação Binária\n",
            "[[ 6  5]\n",
            " [ 5 52]]\n",
            "              precision    recall  f1-score   support\n",
            "\n",
            "           0       0.55      0.55      0.55        11\n",
            "           1       0.91      0.91      0.91        57\n",
            "\n",
            "    accuracy                           0.85        68\n",
            "   macro avg       0.73      0.73      0.73        68\n",
            "weighted avg       0.85      0.85      0.85        68\n",
            "\n"
          ]
        }
      ],
      "source": [
        "from sklearn.tree import DecisionTreeClassifier\n",
        "\n",
        "# Modelo Árvore de Decisão - Classificação Binária\n",
        "dt_bin = DecisionTreeClassifier(random_state=42)\n",
        "dt_bin.fit(X_train_bin_scaled, y_train_bin)\n",
        "y_pred_bin_dt = dt_bin.predict(X_test_bin_scaled)\n",
        "\n",
        "print(\"Árvores de Decisão - Classificação Binária\")\n",
        "print(confusion_matrix(y_test_bin, y_pred_bin_dt))\n",
        "print(classification_report(y_test_bin, y_pred_bin_dt))\n"
      ]
    },
    {
      "cell_type": "code",
      "execution_count": 45,
      "metadata": {
        "colab": {
          "base_uri": "https://localhost:8080/"
        },
        "id": "kKaFg9_ZJO5E",
        "outputId": "3297d75c-95ac-4494-aca1-9e9b608f8623"
      },
      "outputs": [
        {
          "name": "stdout",
          "output_type": "stream",
          "text": [
            "Árvores de Decisão - Classificação Multiclasse\n",
            "[[14  1  1  0]\n",
            " [ 0  5  0  4]\n",
            " [ 0  4 12  1]\n",
            " [ 0  6  0  6]]\n",
            "              precision    recall  f1-score   support\n",
            "\n",
            "           2       1.00      0.88      0.93        16\n",
            "           3       0.31      0.56      0.40         9\n",
            "           4       0.92      0.71      0.80        17\n",
            "           5       0.55      0.50      0.52        12\n",
            "\n",
            "    accuracy                           0.69        54\n",
            "   macro avg       0.70      0.66      0.66        54\n",
            "weighted avg       0.76      0.69      0.71        54\n",
            "\n"
          ]
        }
      ],
      "source": [
        "# Modelo Árvore de Decisão - Classificação Multiclasse\n",
        "dt_mc = DecisionTreeClassifier(random_state=42)\n",
        "dt_mc.fit(X_train_mc_scaled, y_train_mc)\n",
        "y_pred_mc_dt = dt_mc.predict(X_test_mc_scaled)\n",
        "\n",
        "print(\"Árvores de Decisão - Classificação Multiclasse\")\n",
        "print(confusion_matrix(y_test_mc, y_pred_mc_dt))\n",
        "print(classification_report(y_test_mc, y_pred_mc_dt))\n"
      ]
    },
    {
      "cell_type": "markdown",
      "metadata": {
        "id": "LjTQnI8uPlay"
      },
      "source": [
        "Conclusão e Avaliação dos resultados:"
      ]
    },
    {
      "cell_type": "markdown",
      "metadata": {
        "id": "O_nmpy4BREz7"
      },
      "source": [
        "\n",
        "---\n",
        "\n",
        "### **O Objetivo**\n",
        "\n",
        "Foram testados diversos modelos de Machine Learning para resolver dois problemas:\n",
        "\n",
        "1. **Classificação Binária**: Detectar se há ou não uma mina terrestre (1 = mina, 0 = não mina).\n",
        "2. **Classificação Multiclasse**: Identificar o tipo de mina (4 categorias diferentes no conjunto de dados fornecido).\n",
        "\n",
        "O objetivo foi determinar qual modelo apresentou o melhor desempenho para cada problema e analisar a performance geral, destacando possíveis melhorias e limitações.\n",
        "\n",
        "---\n",
        "\n",
        "### **Como Analisamos?**\n",
        "\n",
        "Para cada modelo (Random Forest, Árvore de Decisão, Redes Neurais, etc.), as seguintes métricas foram utilizadas para avaliação:\n",
        "\n",
        "- **Acurácia**: Percentual total de acertos.\n",
        "- **Recall (Revocação)**: Percentual de casos positivos corretamente identificados.\n",
        "- **F1-score**: Combinação de precisão e recall, avaliando o equilíbrio do modelo.\n",
        "\n",
        "Além disso:\n",
        "- **Matriz de Confusão**: Utilizada para analisar onde os modelos acertaram ou erraram.\n",
        "\n",
        "---\n",
        "\n",
        "### **Classificação Binária: Qual foi o melhor modelo?**\n",
        "\n",
        "Com base nos testes realizados:\n",
        "\n",
        "1. **Random Forest**:\n",
        "   - **Acurácia**: 91%.\n",
        "   - **Recall (mina)**: 93% (excelente para minimizar falsos negativos, ou seja, garantir que todas as minas sejam detectadas).\n",
        "   - **F1-score**: 90% (bom equilíbrio entre precisão e recall).\n",
        "   - **Overfitting**: Não! Resultados no treino e teste foram consistentes.\n",
        "\n",
        "2. **Redes Neurais (MLP)**:\n",
        "   - **Acurácia**: 85%.\n",
        "   - **Recall (mina)**: 88% (um pouco menor que Random Forest).\n",
        "   - **F1-score**: 85%.\n",
        "   - **Overfitting**: Sim, leve. O modelo apresentou desempenho superior no treino em relação ao teste.\n",
        "\n",
        "3. **Árvore de Decisão**:\n",
        "   - **Acurácia**: 85%.\n",
        "   - **Recall (mina)**: 91%.\n",
        "   - **F1-score**: 85%.\n",
        "   - **Overfitting**: Sim. O modelo teve maior desempenho no treino do que no teste.\n",
        "\n",
        "#### **Conclusão (Binário):**\n",
        "O **Random Forest** foi o melhor modelo para a classificação binária, apresentando:\n",
        "- Alta acurácia e recall.\n",
        "- Excelente capacidade de detectar minas terrestres sem muitos falsos negativos.\n",
        "- Consistência entre treino e teste, sem sinais de overfitting.\n",
        "\n",
        "---\n",
        "\n",
        "### **Classificação Multiclasse: Qual foi o melhor modelo?**\n",
        "\n",
        "O problema multiclasse é mais desafiador devido ao desbalanceamento dos dados, com classes minoritárias representando menos amostras.\n",
        "\n",
        "1. **Árvore de Decisão**:\n",
        "   - **Acurácia**: 69% (melhor desempenho dentre os modelos testados).\n",
        "   - **F1-score (média por classe)**: ~62%.\n",
        "   - **Erro em classes minoritárias**: O modelo apresentou erros, mas foi mais eficiente que outros na identificação de classes raras.\n",
        "\n",
        "2. **Random Forest**:\n",
        "   - **Acurácia**: 65%.\n",
        "   - **F1-score (média por classe)**: ~60%.\n",
        "   - **Erro em classes minoritárias**: Dificuldades em prever classes raras, como minas anti-pessoais.\n",
        "\n",
        "3. **KNN e Naive Bayes**:\n",
        "   - **Acurácia**: Menor que 60%.\n",
        "   - **F1-score**: Muito baixo para classes minoritárias.\n",
        "   - **Desempenho Geral**: Não capturaram bem a complexidade do problema.\n",
        "\n",
        "#### **Conclusão (Multiclasse):**\n",
        "O melhor modelo para a classificação multiclasse foi a **Árvore de Decisão**, com:\n",
        "- Maior acurácia (69%).\n",
        "- Melhor F1-score médio entre as classes (~62%).\n",
        "- Maior robustez em classes minoritárias em comparação aos outros modelos.\n",
        "\n",
        "---\n",
        "\n",
        "### **Conclusão Final**\n",
        "\n",
        "Com base nos resultados:\n",
        "- **Classificação Binária**: O **Random Forest** foi o modelo mais eficiente, com alta acurácia, recall e F1-score, além de apresentar resultados consistentes entre treino e teste.\n",
        "- **Classificação Multiclasse**: A **Árvore de Decisão** apresentou o melhor desempenho, com maior acurácia e melhor capacidade de lidar com classes minoritárias.\n",
        "\n",
        "---\n",
        "\n",
        "### **Problemas e Melhorias Sugeridas**\n",
        "\n",
        "#### **Desbalanceamento**:\n",
        "- O desbalanceamento das classes dificultou o desempenho no problema multiclasse.\n",
        "- **Soluções**:\n",
        "  - Aplicar técnicas como oversampling (ex.: SMOTE) para aumentar a representatividade das classes minoritárias.\n",
        "  - Ajustar pesos no modelo para dar mais importância às classes com menos amostras.\n",
        "\n",
        "#### **Validação de Hiperparâmetros**:\n",
        "- Testar diferentes configurações, como:\n",
        "  - Profundidade máxima em Árvores de Decisão.\n",
        "  - Número de árvores no Random Forest.\n",
        "  - Número de vizinhos no KNN.\n",
        "\n",
        "#### **Melhorias no Multiclasse**:\n",
        "- Usar modelos ensemble mais avançados, como XGBoost ou LightGBM, para melhorar o desempenho nas classes minoritárias.\n",
        "- Coletar mais dados para equilibrar as classes.\n",
        "\n",
        "---\n",
        "\n",
        "### **Consistência**\n",
        "- O **Random Forest** mostrou excelente consistência no problema binário.\n",
        "- A **Árvore de Decisão** teve o melhor desempenho no problema multiclasse, mas também pode ser refinada com ajustes nos hiperparâmetros e técnicas para lidar com classes desbalanceadas.\n",
        "\n"
      ]
    }
  ],
  "metadata": {
    "colab": {
      "provenance": []
    },
    "kernelspec": {
      "display_name": "Python 3",
      "name": "python3"
    },
    "language_info": {
      "name": "python"
    }
  },
  "nbformat": 4,
  "nbformat_minor": 0
}
