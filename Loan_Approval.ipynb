{
  "nbformat": 4,
  "nbformat_minor": 0,
  "metadata": {
    "colab": {
      "provenance": []
    },
    "kernelspec": {
      "name": "python3",
      "display_name": "Python 3"
    },
    "language_info": {
      "name": "python"
    }
  },
  "cells": [
    {
      "cell_type": "markdown",
      "source": [
        "# **Definição do Problema**\n",
        "\n",
        "* Desenvolver um modelo de machine learning capaz de classificar se um empréstimo deve ser aprovado ou não com base em características do cliente. Isso pode incluir atributos como renda, histórico de crédito, idade, entre outros.\n",
        "\n",
        "\n",
        "\n",
        "\n",
        "---\n",
        "\n"
      ],
      "metadata": {
        "id": "5i0IbrVe0G9e"
      }
    },
    {
      "cell_type": "markdown",
      "source": [
        "\n",
        "# **Objetivos:**\n",
        "\n",
        "- Coletar e pré-processar dados de clientes que solicitaram empréstimos.\n",
        "\n",
        "- Treinar diferentes modelos de classificação para prever a aprovação de empréstimos.\n",
        "\n",
        "- Avaliar o desempenho dos modelos e selecionar o mais adequado para a implementação.\n",
        "\n",
        "**Relevância:**\n",
        "* A capacidade de prever a aprovação de empréstimos com precisão pode ajudar as instituições financeiras a minimizar riscos, melhorar a satisfação do cliente e otimizar o processo de tomada de decisão."
      ],
      "metadata": {
        "id": "MtYu0C6nzLbr"
      }
    },
    {
      "cell_type": "markdown",
      "source": [
        "# **Coleta e pré-processamento de dados:**\n",
        " Descrever as fontes de dados, os métodos de coleta e as técnicas de pré-processamento utilizadas para\n",
        "preparar os dados para a análise, incluindo limpeza, tratamento de valores\n",
        "ausentes e normalização"
      ],
      "metadata": {
        "id": "yEFHiNWVvlEv"
      }
    },
    {
      "cell_type": "markdown",
      "source": [
        "# **Fontes de Dados:**\n",
        "* Os dados foram obtidos de um arquivo CSV contendo informações sobre os clientes e seus pedidos de empréstimo.\n",
        "* Os dados foram coletados de um sistema de gerenciamento de empréstimos, contendo informações como renda, idade, histórico de crédito, etc."
      ],
      "metadata": {
        "id": "rdnozIiFnc4z"
      }
    },
    {
      "cell_type": "code",
      "execution_count": null,
      "metadata": {
        "id": "40AjRw5aMPL3",
        "colab": {
          "base_uri": "https://localhost:8080/"
        },
        "outputId": "0043f44e-90c1-40f8-86a2-f3d355a6a494"
      },
      "outputs": [
        {
          "output_type": "stream",
          "name": "stdout",
          "text": [
            "Primeiras linhas dos dados carregados:\n",
            "  cod_cliente  sexo estado_civil dependentes      educacao empregado  renda  \\\n",
            "0    LP001002  Male           No           0      Graduate        No   5849   \n",
            "1    LP001003  Male          Yes           1      Graduate        No   4583   \n",
            "2    LP001005  Male          Yes           0      Graduate       Yes   3000   \n",
            "3    LP001006  Male          Yes           0  Not Graduate        No   2583   \n",
            "4    LP001008  Male           No           0      Graduate        No   6000   \n",
            "\n",
            "  renda_conjuge  emprestimo  prestacao_mensal  historico_credito imovel  \\\n",
            "0             0         NaN             360.0                1.0  Urban   \n",
            "1          1508       128.0             360.0                1.0  Rural   \n",
            "2             0        66.0             360.0                1.0  Urban   \n",
            "3          2358       120.0             360.0                1.0  Urban   \n",
            "4             0       141.0             360.0                1.0  Urban   \n",
            "\n",
            "  aprovacao_emprestimo  \n",
            "0                    Y  \n",
            "1                    N  \n",
            "2                    Y  \n",
            "3                    Y  \n",
            "4                    Y  \n",
            "Descrição da Fonte de Dados: Os dados foram obtidos de um sistema de aprovação de empréstimos. Eles incluem informações sobre a aprovação de empréstimos para clientes com base em vários critérios financeiros e pessoais.\n"
          ]
        }
      ],
      "source": [
        "import pandas as pd\n",
        "import numpy as np\n",
        "import seaborn as sns\n",
        "import matplotlib.pyplot as plt\n",
        "from sklearn.preprocessing import OneHotEncoder, StandardScaler\n",
        "from sklearn.impute import SimpleImputer\n",
        "from sklearn.model_selection import train_test_split, cross_val_score, GridSearchCV\n",
        "from sklearn.ensemble import RandomForestClassifier\n",
        "from sklearn.linear_model import LogisticRegression\n",
        "from sklearn.neighbors import KNeighborsClassifier\n",
        "from sklearn.metrics import accuracy_score, classification_report, confusion_matrix\n",
        "from sklearn.pipeline import Pipeline\n",
        "from sklearn.compose import ColumnTransformer\n",
        "\n",
        "\n",
        "# Importando as bibliotecas\n",
        "# Carregando os dados\n",
        "df = pd.read_csv('/content/clientes.csv', na_values='na')\n",
        "print(\"Primeiras linhas dos dados carregados:\")\n",
        "print(df.head(n=5))\n",
        "\n",
        "# Descrição da fonte de dados\n",
        "print(\"Descrição da Fonte de Dados: Os dados foram obtidos de um sistema de aprovação de empréstimos. Eles incluem informações sobre a aprovação de empréstimos para clientes com base em vários critérios financeiros e pessoais.\")\n"
      ]
    },
    {
      "cell_type": "code",
      "source": [
        "# Análise exploratória inicial\n",
        "print(\"Estrutura dos dados:\", df.shape)\n",
        "print(\"Clientes com empréstimo aprovado:\", df[df['aprovacao_emprestimo'] == 'Y'].shape)\n",
        "print(\"Clientes com empréstimo reprovado:\", df[df['aprovacao_emprestimo'] == 'N'].shape)\n"
      ],
      "metadata": {
        "colab": {
          "base_uri": "https://localhost:8080/"
        },
        "id": "qbtZWUZ0SARb",
        "outputId": "45dfcaac-43b6-48c4-8f18-64a3ad62163c"
      },
      "execution_count": null,
      "outputs": [
        {
          "output_type": "stream",
          "name": "stdout",
          "text": [
            "Estrutura dos dados: (614, 13)\n",
            "Clientes com empréstimo aprovado: (422, 13)\n",
            "Clientes com empréstimo reprovado: (192, 13)\n"
          ]
        }
      ]
    },
    {
      "cell_type": "code",
      "source": [
        "# Proporções de aprovação e reprovação\n",
        "qtd_total, _ = df.shape\n",
        "qtd_aprovados, _ = df[df['aprovacao_emprestimo'] == 'Y'].shape\n",
        "qtd_reprovados, _ = df[df['aprovacao_emprestimo'] == 'N'].shape\n",
        "print(f\"Proporção de clientes com empréstimo aprovado: {round(100 * qtd_aprovados / qtd_total, 2)}%\")\n",
        "print(f\"Proporção de clientes com empréstimo reprovado: {round(100 * qtd_reprovados / qtd_total, 2)}%\")\n"
      ],
      "metadata": {
        "colab": {
          "base_uri": "https://localhost:8080/"
        },
        "id": "3T69yf_NSEoj",
        "outputId": "dc089444-98a4-4867-ea1f-2bf8f70c61f6"
      },
      "execution_count": null,
      "outputs": [
        {
          "output_type": "stream",
          "name": "stdout",
          "text": [
            "Proporção de clientes com empréstimo aprovado: 68.73%\n",
            "Proporção de clientes com empréstimo reprovado: 31.27%\n"
          ]
        }
      ]
    },
    {
      "cell_type": "code",
      "source": [
        "# Verificação e tratamento de dados faltantes\n",
        "print(\"Verificação de dados faltantes no dataset:\")\n",
        "print(df.isna().any())\n",
        "def stats_dados_faltantes(df):\n",
        "    stats = []\n",
        "    for col in df.columns:\n",
        "        if df[col].isna().any():\n",
        "            qtd = df[col].isna().sum()\n",
        "            total = len(df)\n",
        "            stats.append({col: {'quantidade': qtd, 'porcentagem': round(100 * qtd / total, 2)}})\n",
        "    return stats\n",
        "print(\"Dados faltantes antes da limpeza:\")\n",
        "print(stats_dados_faltantes(df))"
      ],
      "metadata": {
        "colab": {
          "base_uri": "https://localhost:8080/"
        },
        "id": "iL8TnkBkXxiR",
        "outputId": "85e52969-1360-4010-b804-e96f375b6f86"
      },
      "execution_count": null,
      "outputs": [
        {
          "output_type": "stream",
          "name": "stdout",
          "text": [
            "Verificação de dados faltantes no dataset:\n",
            "cod_cliente             False\n",
            "sexo                     True\n",
            "estado_civil             True\n",
            "dependentes              True\n",
            "educacao                False\n",
            "empregado                True\n",
            "renda                   False\n",
            "renda_conjuge           False\n",
            "emprestimo               True\n",
            "prestacao_mensal         True\n",
            "historico_credito        True\n",
            "imovel                  False\n",
            "aprovacao_emprestimo    False\n",
            "dtype: bool\n",
            "Dados faltantes antes da limpeza:\n",
            "[{'sexo': {'quantidade': 13, 'porcentagem': 2.12}}, {'estado_civil': {'quantidade': 3, 'porcentagem': 0.49}}, {'dependentes': {'quantidade': 15, 'porcentagem': 2.44}}, {'empregado': {'quantidade': 32, 'porcentagem': 5.21}}, {'emprestimo': {'quantidade': 22, 'porcentagem': 3.58}}, {'prestacao_mensal': {'quantidade': 14, 'porcentagem': 2.28}}, {'historico_credito': {'quantidade': 50, 'porcentagem': 8.14}}]\n"
          ]
        }
      ]
    },
    {
      "cell_type": "code",
      "source": [
        "# Remover as linhas com dados faltantes\n",
        "df.dropna(inplace=True)"
      ],
      "metadata": {
        "id": "_vECt8zKX8-H"
      },
      "execution_count": null,
      "outputs": []
    },
    {
      "cell_type": "code",
      "source": [
        "# Salvar o dataframe limpo em um novo arquivo CSV\n",
        "df.to_csv('clientes_limpo.csv', index=False)"
      ],
      "metadata": {
        "id": "kNmIym74vFFS"
      },
      "execution_count": null,
      "outputs": []
    },
    {
      "cell_type": "markdown",
      "source": [
        "# **Seleção de dados :**\n",
        "A seleção de atributos foi baseada na disponibilidade de dados e na relevância percebida para a previsão de aprovação de empréstimos. Atributos categóricos como educação e emprego foram escolhidos devido à sua influência potencial na estabilidade financeira do cliente."
      ],
      "metadata": {
        "id": "1ULafrWd1US_"
      }
    },
    {
      "cell_type": "markdown",
      "source": [
        "# **Transformação de dados :**"
      ],
      "metadata": {
        "id": "qx5cxvTN2fUy"
      }
    },
    {
      "cell_type": "code",
      "source": [
        "df.info()"
      ],
      "metadata": {
        "colab": {
          "base_uri": "https://localhost:8080/"
        },
        "id": "B3ZV586K3yZX",
        "outputId": "ca8fd862-fc51-445c-fbce-d0955d2ae074"
      },
      "execution_count": null,
      "outputs": [
        {
          "output_type": "stream",
          "name": "stdout",
          "text": [
            "<class 'pandas.core.frame.DataFrame'>\n",
            "Index: 480 entries, 1 to 613\n",
            "Data columns (total 13 columns):\n",
            " #   Column                Non-Null Count  Dtype  \n",
            "---  ------                --------------  -----  \n",
            " 0   cod_cliente           480 non-null    object \n",
            " 1   sexo                  480 non-null    object \n",
            " 2   estado_civil          480 non-null    object \n",
            " 3   dependentes           480 non-null    object \n",
            " 4   educacao              480 non-null    object \n",
            " 5   empregado             480 non-null    object \n",
            " 6   renda                 480 non-null    int64  \n",
            " 7   renda_conjuge         480 non-null    object \n",
            " 8   emprestimo            480 non-null    float64\n",
            " 9   prestacao_mensal      480 non-null    float64\n",
            " 10  historico_credito     480 non-null    float64\n",
            " 11  imovel                480 non-null    object \n",
            " 12  aprovacao_emprestimo  480 non-null    object \n",
            "dtypes: float64(3), int64(1), object(9)\n",
            "memory usage: 52.5+ KB\n"
          ]
        }
      ]
    },
    {
      "cell_type": "code",
      "source": [
        "# Remover colunas desnecessárias\n",
        "df = df.drop(columns=['cod_cliente'])\n",
        "\n",
        "# Corrigir a formatação das colunas numéricas\n",
        "numerical_features = ['renda', 'renda_conjuge', 'emprestimo', 'prestacao_mensal', 'historico_credito']\n",
        "for feature in numerical_features:\n",
        "    if df[feature].dtype == 'object':\n",
        "        # Remover pontos de milhares e converter para float\n",
        "        df[feature] = df[feature].str.replace('.', '').astype(float)\n",
        "    else:\n",
        "        # Converter diretamente para float se não estiver no formato correto\n",
        "        df[feature] = df[feature].astype(float)\n",
        "\n",
        "# Separar as características (features) e o alvo (target)\n",
        "X = df.drop('aprovacao_emprestimo', axis=1)\n",
        "y = df['aprovacao_emprestimo']\n",
        "\n",
        "# Identificar colunas numéricas e categóricas\n",
        "num_features = X.select_dtypes(include=['int64', 'float64']).columns\n",
        "cat_features = X.select_dtypes(include=['object']).columns\n",
        "\n",
        "# Definir transformações para colunas numéricas e categóricas\n",
        "num_transformer = Pipeline(steps=[\n",
        "    ('scaler', StandardScaler())\n",
        "])\n",
        "\n",
        "cat_transformer = Pipeline(steps=[\n",
        "    ('onehot', OneHotEncoder(handle_unknown='ignore'))\n",
        "])\n",
        "\n",
        "# Combinar transformações em um ColumnTransformer\n",
        "preprocessor = ColumnTransformer(\n",
        "    transformers=[\n",
        "        ('num', num_transformer, num_features),\n",
        "        ('cat', cat_transformer, cat_features)\n",
        "    ]\n",
        ")\n",
        "\n",
        "# Aplicar as transformações\n",
        "X_preprocessed = preprocessor.fit_transform(X)"
      ],
      "metadata": {
        "id": "sILCdr3NUC_i"
      },
      "execution_count": null,
      "outputs": []
    },
    {
      "cell_type": "code",
      "source": [
        "# Verificar dimensões das colunas\n",
        "cat_feature_names = preprocessor.named_transformers_['cat']['onehot'].get_feature_names_out(cat_features)\n",
        "all_feature_names = np.concatenate([num_features, cat_feature_names])\n",
        "\n",
        "# Reconstituir o DataFrame transformado\n",
        "df_transformed = pd.DataFrame(X_preprocessed, columns=all_feature_names)\n",
        "\n",
        "# Adicionar a coluna alvo ao DataFrame transformado\n",
        "df_transformed['aprovacao_emprestimo'] = y.values\n",
        "\n",
        "# Salvar o DataFrame transformado em um arquivo CSV\n",
        "df_transformed.to_csv('clientes_transformado.csv', index=False)\n",
        "\n",
        "print(\"Dados transformados e salvos em clientes_transformado.csv\")"
      ],
      "metadata": {
        "id": "aGBV-C5rHCl4",
        "colab": {
          "base_uri": "https://localhost:8080/"
        },
        "outputId": "b0e8a343-f5ce-4142-bf2d-ef4159c04fa1"
      },
      "execution_count": null,
      "outputs": [
        {
          "output_type": "stream",
          "name": "stdout",
          "text": [
            "Dados transformados e salvos em clientes_transformado.csv\n"
          ]
        }
      ]
    },
    {
      "cell_type": "code",
      "source": [
        "# Visualizando o dataframe transformado\n",
        "df_transformed.head()"
      ],
      "metadata": {
        "colab": {
          "base_uri": "https://localhost:8080/",
          "height": 273
        },
        "id": "bgxxwB3QWbrF",
        "outputId": "a525073b-9095-41be-9083-1e73e553d500"
      },
      "execution_count": null,
      "outputs": [
        {
          "output_type": "execute_result",
          "data": {
            "text/plain": [
              "      renda  renda_conjuge  emprestimo  prestacao_mensal  historico_credito  \\\n",
              "0 -0.137970      -0.052483   -0.208089          0.275542           0.413197   \n",
              "1 -0.417536      -0.052487   -0.979001          0.275542           0.413197   \n",
              "2 -0.491180      -0.052482   -0.307562          0.275542           0.413197   \n",
              "3  0.112280      -0.052487   -0.046446          0.275542           0.413197   \n",
              "4  0.009319      -0.052478    1.520245          0.275542           0.413197   \n",
              "\n",
              "   sexo_Female  sexo_Male  estado_civil_No  estado_civil_Yes  dependentes_0  \\\n",
              "0          0.0        1.0              0.0               1.0            0.0   \n",
              "1          0.0        1.0              0.0               1.0            1.0   \n",
              "2          0.0        1.0              0.0               1.0            1.0   \n",
              "3          0.0        1.0              1.0               0.0            1.0   \n",
              "4          0.0        1.0              0.0               1.0            0.0   \n",
              "\n",
              "   ...  dependentes_2  dependentes_3+  educacao_Graduate  \\\n",
              "0  ...            0.0             0.0                1.0   \n",
              "1  ...            0.0             0.0                1.0   \n",
              "2  ...            0.0             0.0                0.0   \n",
              "3  ...            0.0             0.0                1.0   \n",
              "4  ...            1.0             0.0                1.0   \n",
              "\n",
              "   educacao_Not Graduate  empregado_No  empregado_Yes  imovel_Rural  \\\n",
              "0                    0.0           1.0            0.0           1.0   \n",
              "1                    0.0           0.0            1.0           0.0   \n",
              "2                    1.0           1.0            0.0           0.0   \n",
              "3                    0.0           1.0            0.0           0.0   \n",
              "4                    0.0           0.0            1.0           0.0   \n",
              "\n",
              "   imovel_Semiurban  imovel_Urban  aprovacao_emprestimo  \n",
              "0               0.0           0.0                     N  \n",
              "1               0.0           1.0                     Y  \n",
              "2               0.0           1.0                     Y  \n",
              "3               0.0           1.0                     Y  \n",
              "4               0.0           1.0                     Y  \n",
              "\n",
              "[5 rows x 21 columns]"
            ],
            "text/html": [
              "\n",
              "  <div id=\"df-d7336cde-d0d2-4149-b92b-a74962304cb4\" class=\"colab-df-container\">\n",
              "    <div>\n",
              "<style scoped>\n",
              "    .dataframe tbody tr th:only-of-type {\n",
              "        vertical-align: middle;\n",
              "    }\n",
              "\n",
              "    .dataframe tbody tr th {\n",
              "        vertical-align: top;\n",
              "    }\n",
              "\n",
              "    .dataframe thead th {\n",
              "        text-align: right;\n",
              "    }\n",
              "</style>\n",
              "<table border=\"1\" class=\"dataframe\">\n",
              "  <thead>\n",
              "    <tr style=\"text-align: right;\">\n",
              "      <th></th>\n",
              "      <th>renda</th>\n",
              "      <th>renda_conjuge</th>\n",
              "      <th>emprestimo</th>\n",
              "      <th>prestacao_mensal</th>\n",
              "      <th>historico_credito</th>\n",
              "      <th>sexo_Female</th>\n",
              "      <th>sexo_Male</th>\n",
              "      <th>estado_civil_No</th>\n",
              "      <th>estado_civil_Yes</th>\n",
              "      <th>dependentes_0</th>\n",
              "      <th>...</th>\n",
              "      <th>dependentes_2</th>\n",
              "      <th>dependentes_3+</th>\n",
              "      <th>educacao_Graduate</th>\n",
              "      <th>educacao_Not Graduate</th>\n",
              "      <th>empregado_No</th>\n",
              "      <th>empregado_Yes</th>\n",
              "      <th>imovel_Rural</th>\n",
              "      <th>imovel_Semiurban</th>\n",
              "      <th>imovel_Urban</th>\n",
              "      <th>aprovacao_emprestimo</th>\n",
              "    </tr>\n",
              "  </thead>\n",
              "  <tbody>\n",
              "    <tr>\n",
              "      <th>0</th>\n",
              "      <td>-0.137970</td>\n",
              "      <td>-0.052483</td>\n",
              "      <td>-0.208089</td>\n",
              "      <td>0.275542</td>\n",
              "      <td>0.413197</td>\n",
              "      <td>0.0</td>\n",
              "      <td>1.0</td>\n",
              "      <td>0.0</td>\n",
              "      <td>1.0</td>\n",
              "      <td>0.0</td>\n",
              "      <td>...</td>\n",
              "      <td>0.0</td>\n",
              "      <td>0.0</td>\n",
              "      <td>1.0</td>\n",
              "      <td>0.0</td>\n",
              "      <td>1.0</td>\n",
              "      <td>0.0</td>\n",
              "      <td>1.0</td>\n",
              "      <td>0.0</td>\n",
              "      <td>0.0</td>\n",
              "      <td>N</td>\n",
              "    </tr>\n",
              "    <tr>\n",
              "      <th>1</th>\n",
              "      <td>-0.417536</td>\n",
              "      <td>-0.052487</td>\n",
              "      <td>-0.979001</td>\n",
              "      <td>0.275542</td>\n",
              "      <td>0.413197</td>\n",
              "      <td>0.0</td>\n",
              "      <td>1.0</td>\n",
              "      <td>0.0</td>\n",
              "      <td>1.0</td>\n",
              "      <td>1.0</td>\n",
              "      <td>...</td>\n",
              "      <td>0.0</td>\n",
              "      <td>0.0</td>\n",
              "      <td>1.0</td>\n",
              "      <td>0.0</td>\n",
              "      <td>0.0</td>\n",
              "      <td>1.0</td>\n",
              "      <td>0.0</td>\n",
              "      <td>0.0</td>\n",
              "      <td>1.0</td>\n",
              "      <td>Y</td>\n",
              "    </tr>\n",
              "    <tr>\n",
              "      <th>2</th>\n",
              "      <td>-0.491180</td>\n",
              "      <td>-0.052482</td>\n",
              "      <td>-0.307562</td>\n",
              "      <td>0.275542</td>\n",
              "      <td>0.413197</td>\n",
              "      <td>0.0</td>\n",
              "      <td>1.0</td>\n",
              "      <td>0.0</td>\n",
              "      <td>1.0</td>\n",
              "      <td>1.0</td>\n",
              "      <td>...</td>\n",
              "      <td>0.0</td>\n",
              "      <td>0.0</td>\n",
              "      <td>0.0</td>\n",
              "      <td>1.0</td>\n",
              "      <td>1.0</td>\n",
              "      <td>0.0</td>\n",
              "      <td>0.0</td>\n",
              "      <td>0.0</td>\n",
              "      <td>1.0</td>\n",
              "      <td>Y</td>\n",
              "    </tr>\n",
              "    <tr>\n",
              "      <th>3</th>\n",
              "      <td>0.112280</td>\n",
              "      <td>-0.052487</td>\n",
              "      <td>-0.046446</td>\n",
              "      <td>0.275542</td>\n",
              "      <td>0.413197</td>\n",
              "      <td>0.0</td>\n",
              "      <td>1.0</td>\n",
              "      <td>1.0</td>\n",
              "      <td>0.0</td>\n",
              "      <td>1.0</td>\n",
              "      <td>...</td>\n",
              "      <td>0.0</td>\n",
              "      <td>0.0</td>\n",
              "      <td>1.0</td>\n",
              "      <td>0.0</td>\n",
              "      <td>1.0</td>\n",
              "      <td>0.0</td>\n",
              "      <td>0.0</td>\n",
              "      <td>0.0</td>\n",
              "      <td>1.0</td>\n",
              "      <td>Y</td>\n",
              "    </tr>\n",
              "    <tr>\n",
              "      <th>4</th>\n",
              "      <td>0.009319</td>\n",
              "      <td>-0.052478</td>\n",
              "      <td>1.520245</td>\n",
              "      <td>0.275542</td>\n",
              "      <td>0.413197</td>\n",
              "      <td>0.0</td>\n",
              "      <td>1.0</td>\n",
              "      <td>0.0</td>\n",
              "      <td>1.0</td>\n",
              "      <td>0.0</td>\n",
              "      <td>...</td>\n",
              "      <td>1.0</td>\n",
              "      <td>0.0</td>\n",
              "      <td>1.0</td>\n",
              "      <td>0.0</td>\n",
              "      <td>0.0</td>\n",
              "      <td>1.0</td>\n",
              "      <td>0.0</td>\n",
              "      <td>0.0</td>\n",
              "      <td>1.0</td>\n",
              "      <td>Y</td>\n",
              "    </tr>\n",
              "  </tbody>\n",
              "</table>\n",
              "<p>5 rows × 21 columns</p>\n",
              "</div>\n",
              "    <div class=\"colab-df-buttons\">\n",
              "\n",
              "  <div class=\"colab-df-container\">\n",
              "    <button class=\"colab-df-convert\" onclick=\"convertToInteractive('df-d7336cde-d0d2-4149-b92b-a74962304cb4')\"\n",
              "            title=\"Convert this dataframe to an interactive table.\"\n",
              "            style=\"display:none;\">\n",
              "\n",
              "  <svg xmlns=\"http://www.w3.org/2000/svg\" height=\"24px\" viewBox=\"0 -960 960 960\">\n",
              "    <path d=\"M120-120v-720h720v720H120Zm60-500h600v-160H180v160Zm220 220h160v-160H400v160Zm0 220h160v-160H400v160ZM180-400h160v-160H180v160Zm440 0h160v-160H620v160ZM180-180h160v-160H180v160Zm440 0h160v-160H620v160Z\"/>\n",
              "  </svg>\n",
              "    </button>\n",
              "\n",
              "  <style>\n",
              "    .colab-df-container {\n",
              "      display:flex;\n",
              "      gap: 12px;\n",
              "    }\n",
              "\n",
              "    .colab-df-convert {\n",
              "      background-color: #E8F0FE;\n",
              "      border: none;\n",
              "      border-radius: 50%;\n",
              "      cursor: pointer;\n",
              "      display: none;\n",
              "      fill: #1967D2;\n",
              "      height: 32px;\n",
              "      padding: 0 0 0 0;\n",
              "      width: 32px;\n",
              "    }\n",
              "\n",
              "    .colab-df-convert:hover {\n",
              "      background-color: #E2EBFA;\n",
              "      box-shadow: 0px 1px 2px rgba(60, 64, 67, 0.3), 0px 1px 3px 1px rgba(60, 64, 67, 0.15);\n",
              "      fill: #174EA6;\n",
              "    }\n",
              "\n",
              "    .colab-df-buttons div {\n",
              "      margin-bottom: 4px;\n",
              "    }\n",
              "\n",
              "    [theme=dark] .colab-df-convert {\n",
              "      background-color: #3B4455;\n",
              "      fill: #D2E3FC;\n",
              "    }\n",
              "\n",
              "    [theme=dark] .colab-df-convert:hover {\n",
              "      background-color: #434B5C;\n",
              "      box-shadow: 0px 1px 3px 1px rgba(0, 0, 0, 0.15);\n",
              "      filter: drop-shadow(0px 1px 2px rgba(0, 0, 0, 0.3));\n",
              "      fill: #FFFFFF;\n",
              "    }\n",
              "  </style>\n",
              "\n",
              "    <script>\n",
              "      const buttonEl =\n",
              "        document.querySelector('#df-d7336cde-d0d2-4149-b92b-a74962304cb4 button.colab-df-convert');\n",
              "      buttonEl.style.display =\n",
              "        google.colab.kernel.accessAllowed ? 'block' : 'none';\n",
              "\n",
              "      async function convertToInteractive(key) {\n",
              "        const element = document.querySelector('#df-d7336cde-d0d2-4149-b92b-a74962304cb4');\n",
              "        const dataTable =\n",
              "          await google.colab.kernel.invokeFunction('convertToInteractive',\n",
              "                                                    [key], {});\n",
              "        if (!dataTable) return;\n",
              "\n",
              "        const docLinkHtml = 'Like what you see? Visit the ' +\n",
              "          '<a target=\"_blank\" href=https://colab.research.google.com/notebooks/data_table.ipynb>data table notebook</a>'\n",
              "          + ' to learn more about interactive tables.';\n",
              "        element.innerHTML = '';\n",
              "        dataTable['output_type'] = 'display_data';\n",
              "        await google.colab.output.renderOutput(dataTable, element);\n",
              "        const docLink = document.createElement('div');\n",
              "        docLink.innerHTML = docLinkHtml;\n",
              "        element.appendChild(docLink);\n",
              "      }\n",
              "    </script>\n",
              "  </div>\n",
              "\n",
              "\n",
              "<div id=\"df-32cc8c63-77ac-4dc8-b4b1-a6d134e5e737\">\n",
              "  <button class=\"colab-df-quickchart\" onclick=\"quickchart('df-32cc8c63-77ac-4dc8-b4b1-a6d134e5e737')\"\n",
              "            title=\"Suggest charts\"\n",
              "            style=\"display:none;\">\n",
              "\n",
              "<svg xmlns=\"http://www.w3.org/2000/svg\" height=\"24px\"viewBox=\"0 0 24 24\"\n",
              "     width=\"24px\">\n",
              "    <g>\n",
              "        <path d=\"M19 3H5c-1.1 0-2 .9-2 2v14c0 1.1.9 2 2 2h14c1.1 0 2-.9 2-2V5c0-1.1-.9-2-2-2zM9 17H7v-7h2v7zm4 0h-2V7h2v10zm4 0h-2v-4h2v4z\"/>\n",
              "    </g>\n",
              "</svg>\n",
              "  </button>\n",
              "\n",
              "<style>\n",
              "  .colab-df-quickchart {\n",
              "      --bg-color: #E8F0FE;\n",
              "      --fill-color: #1967D2;\n",
              "      --hover-bg-color: #E2EBFA;\n",
              "      --hover-fill-color: #174EA6;\n",
              "      --disabled-fill-color: #AAA;\n",
              "      --disabled-bg-color: #DDD;\n",
              "  }\n",
              "\n",
              "  [theme=dark] .colab-df-quickchart {\n",
              "      --bg-color: #3B4455;\n",
              "      --fill-color: #D2E3FC;\n",
              "      --hover-bg-color: #434B5C;\n",
              "      --hover-fill-color: #FFFFFF;\n",
              "      --disabled-bg-color: #3B4455;\n",
              "      --disabled-fill-color: #666;\n",
              "  }\n",
              "\n",
              "  .colab-df-quickchart {\n",
              "    background-color: var(--bg-color);\n",
              "    border: none;\n",
              "    border-radius: 50%;\n",
              "    cursor: pointer;\n",
              "    display: none;\n",
              "    fill: var(--fill-color);\n",
              "    height: 32px;\n",
              "    padding: 0;\n",
              "    width: 32px;\n",
              "  }\n",
              "\n",
              "  .colab-df-quickchart:hover {\n",
              "    background-color: var(--hover-bg-color);\n",
              "    box-shadow: 0 1px 2px rgba(60, 64, 67, 0.3), 0 1px 3px 1px rgba(60, 64, 67, 0.15);\n",
              "    fill: var(--button-hover-fill-color);\n",
              "  }\n",
              "\n",
              "  .colab-df-quickchart-complete:disabled,\n",
              "  .colab-df-quickchart-complete:disabled:hover {\n",
              "    background-color: var(--disabled-bg-color);\n",
              "    fill: var(--disabled-fill-color);\n",
              "    box-shadow: none;\n",
              "  }\n",
              "\n",
              "  .colab-df-spinner {\n",
              "    border: 2px solid var(--fill-color);\n",
              "    border-color: transparent;\n",
              "    border-bottom-color: var(--fill-color);\n",
              "    animation:\n",
              "      spin 1s steps(1) infinite;\n",
              "  }\n",
              "\n",
              "  @keyframes spin {\n",
              "    0% {\n",
              "      border-color: transparent;\n",
              "      border-bottom-color: var(--fill-color);\n",
              "      border-left-color: var(--fill-color);\n",
              "    }\n",
              "    20% {\n",
              "      border-color: transparent;\n",
              "      border-left-color: var(--fill-color);\n",
              "      border-top-color: var(--fill-color);\n",
              "    }\n",
              "    30% {\n",
              "      border-color: transparent;\n",
              "      border-left-color: var(--fill-color);\n",
              "      border-top-color: var(--fill-color);\n",
              "      border-right-color: var(--fill-color);\n",
              "    }\n",
              "    40% {\n",
              "      border-color: transparent;\n",
              "      border-right-color: var(--fill-color);\n",
              "      border-top-color: var(--fill-color);\n",
              "    }\n",
              "    60% {\n",
              "      border-color: transparent;\n",
              "      border-right-color: var(--fill-color);\n",
              "    }\n",
              "    80% {\n",
              "      border-color: transparent;\n",
              "      border-right-color: var(--fill-color);\n",
              "      border-bottom-color: var(--fill-color);\n",
              "    }\n",
              "    90% {\n",
              "      border-color: transparent;\n",
              "      border-bottom-color: var(--fill-color);\n",
              "    }\n",
              "  }\n",
              "</style>\n",
              "\n",
              "  <script>\n",
              "    async function quickchart(key) {\n",
              "      const quickchartButtonEl =\n",
              "        document.querySelector('#' + key + ' button');\n",
              "      quickchartButtonEl.disabled = true;  // To prevent multiple clicks.\n",
              "      quickchartButtonEl.classList.add('colab-df-spinner');\n",
              "      try {\n",
              "        const charts = await google.colab.kernel.invokeFunction(\n",
              "            'suggestCharts', [key], {});\n",
              "      } catch (error) {\n",
              "        console.error('Error during call to suggestCharts:', error);\n",
              "      }\n",
              "      quickchartButtonEl.classList.remove('colab-df-spinner');\n",
              "      quickchartButtonEl.classList.add('colab-df-quickchart-complete');\n",
              "    }\n",
              "    (() => {\n",
              "      let quickchartButtonEl =\n",
              "        document.querySelector('#df-32cc8c63-77ac-4dc8-b4b1-a6d134e5e737 button');\n",
              "      quickchartButtonEl.style.display =\n",
              "        google.colab.kernel.accessAllowed ? 'block' : 'none';\n",
              "    })();\n",
              "  </script>\n",
              "</div>\n",
              "\n",
              "    </div>\n",
              "  </div>\n"
            ],
            "application/vnd.google.colaboratory.intrinsic+json": {
              "type": "dataframe",
              "variable_name": "df_transformed"
            }
          },
          "metadata": {},
          "execution_count": 40
        }
      ]
    },
    {
      "cell_type": "markdown",
      "source": [
        "# **Mineração de dados :**\n",
        "\n",
        "**Algoritmos Utilizados:**\n",
        "\n",
        "* Random Forest Classifier\n",
        "\n",
        "* Logistic Regression\n",
        "\n",
        "* K-Nearest Neighbors"
      ],
      "metadata": {
        "id": "-G9kmUjk4go2"
      }
    },
    {
      "cell_type": "code",
      "source": [
        "# Dividir os dados em conjunto de treino e teste\n",
        "X_train, X_test, y_train, y_test = train_test_split(X_preprocessed, y, test_size=0.2, random_state=42)\n",
        "\n",
        "# Random Forest Classifier\n",
        "rf = RandomForestClassifier(random_state=42)\n",
        "rf.fit(X_train, y_train)\n",
        "y_pred_rf = rf.predict(X_test)\n",
        "print(\"Random Forest Classifier:\")\n",
        "print(\"Accuracy:\", accuracy_score(y_test, y_pred_rf))\n",
        "print(\"Classification Report:\\n\", classification_report(y_test, y_pred_rf))\n",
        "print(\"Confusion Matrix:\\n\", confusion_matrix(y_test, y_pred_rf))\n",
        "\n"
      ],
      "metadata": {
        "id": "2mhq9s0vjOQG",
        "colab": {
          "base_uri": "https://localhost:8080/"
        },
        "outputId": "0745903d-a533-4cd1-d875-90f38bbbc0e0"
      },
      "execution_count": null,
      "outputs": [
        {
          "output_type": "stream",
          "name": "stdout",
          "text": [
            "Random Forest Classifier:\n",
            "Accuracy: 0.8333333333333334\n",
            "Classification Report:\n",
            "               precision    recall  f1-score   support\n",
            "\n",
            "           N       0.88      0.50      0.64        28\n",
            "           Y       0.82      0.97      0.89        68\n",
            "\n",
            "    accuracy                           0.83        96\n",
            "   macro avg       0.85      0.74      0.76        96\n",
            "weighted avg       0.84      0.83      0.82        96\n",
            "\n",
            "Confusion Matrix:\n",
            " [[14 14]\n",
            " [ 2 66]]\n"
          ]
        }
      ]
    },
    {
      "cell_type": "code",
      "source": [
        "# Logistic Regression\n",
        "lr = LogisticRegression(random_state=42, max_iter=1000)\n",
        "lr.fit(X_train, y_train)\n",
        "y_pred_lr = lr.predict(X_test)\n",
        "print(\"Logistic Regression:\")\n",
        "print(\"Accuracy:\", accuracy_score(y_test, y_pred_lr))\n",
        "print(\"Classification Report:\\n\", classification_report(y_test, y_pred_lr))\n",
        "print(\"Confusion Matrix:\\n\", confusion_matrix(y_test, y_pred_lr))"
      ],
      "metadata": {
        "id": "1tkIJO1nmLxl",
        "outputId": "047965a1-31bf-40f2-d9b7-18f93ea2c04a",
        "colab": {
          "base_uri": "https://localhost:8080/"
        }
      },
      "execution_count": null,
      "outputs": [
        {
          "output_type": "stream",
          "name": "stdout",
          "text": [
            "Logistic Regression:\n",
            "Accuracy: 0.8229166666666666\n",
            "Classification Report:\n",
            "               precision    recall  f1-score   support\n",
            "\n",
            "           N       1.00      0.39      0.56        28\n",
            "           Y       0.80      1.00      0.89        68\n",
            "\n",
            "    accuracy                           0.82        96\n",
            "   macro avg       0.90      0.70      0.73        96\n",
            "weighted avg       0.86      0.82      0.79        96\n",
            "\n",
            "Confusion Matrix:\n",
            " [[11 17]\n",
            " [ 0 68]]\n"
          ]
        }
      ]
    },
    {
      "cell_type": "code",
      "source": [
        "# K-Nearest Neighbors\n",
        "knn = KNeighborsClassifier()\n",
        "knn.fit(X_train, y_train)\n",
        "y_pred_knn = knn.predict(X_test)\n",
        "print(\"K-Nearest Neighbors:\")\n",
        "print(\"Accuracy:\", accuracy_score(y_test, y_pred_knn))\n",
        "print(\"Classification Report:\\n\", classification_report(y_test, y_pred_knn))\n",
        "print(\"Confusion Matrix:\\n\", confusion_matrix(y_test, y_pred_knn))"
      ],
      "metadata": {
        "id": "ydwk_iYUmPhr",
        "outputId": "d772ac30-86f2-425a-da56-5f0e6f673df6",
        "colab": {
          "base_uri": "https://localhost:8080/"
        }
      },
      "execution_count": null,
      "outputs": [
        {
          "output_type": "stream",
          "name": "stdout",
          "text": [
            "K-Nearest Neighbors:\n",
            "Accuracy: 0.8125\n",
            "Classification Report:\n",
            "               precision    recall  f1-score   support\n",
            "\n",
            "           N       0.81      0.46      0.59        28\n",
            "           Y       0.81      0.96      0.88        68\n",
            "\n",
            "    accuracy                           0.81        96\n",
            "   macro avg       0.81      0.71      0.73        96\n",
            "weighted avg       0.81      0.81      0.79        96\n",
            "\n",
            "Confusion Matrix:\n",
            " [[13 15]\n",
            " [ 3 65]]\n"
          ]
        }
      ]
    },
    {
      "cell_type": "markdown",
      "source": [
        "## Visualização de dados com gráficos\n",
        "\n"
      ],
      "metadata": {
        "id": "7h41AR23jVC-"
      }
    },
    {
      "cell_type": "code",
      "source": [
        "import seaborn as sns\n",
        "import matplotlib.pyplot as plt\n",
        "from sklearn.metrics import confusion_matrix\n",
        "\n",
        "# Supondo que y_test e y_pred_rf sejam os dados reais e as previsões do modelo Random Forest\n",
        "cm = confusion_matrix(y_test, y_pred_rf)\n",
        "\n",
        "# Definir os rótulos\n",
        "labels = ['Não Aprovado (N)', 'Aprovado (Y)']\n",
        "\n",
        "# Plotar a matriz de confusão\n",
        "plt.figure(figsize=(10, 7))\n",
        "sns.heatmap(cm, annot=True, fmt='d', cmap='Blues', xticklabels=labels, yticklabels=labels)\n",
        "plt.title('Matriz de Confusão - Random Forest')\n",
        "plt.xlabel('Predito')\n",
        "plt.ylabel('Real')\n",
        "plt.show()\n"
      ],
      "metadata": {
        "id": "nymg84LgjX9T",
        "colab": {
          "base_uri": "https://localhost:8080/",
          "height": 641
        },
        "outputId": "dbe8d69c-1520-45cd-fbd0-178e1eda5ac9"
      },
      "execution_count": null,
      "outputs": [
        {
          "output_type": "display_data",
          "data": {
            "text/plain": [
              "<Figure size 1000x700 with 2 Axes>"
            ],
            "image/png": "[encoded data removed]"
          },
          "metadata": {}
        }
      ]
    },
    {
      "cell_type": "markdown",
      "source": [
        "# **Explicação do gráfico**\n",
        "- As células da matriz mostram o número de previsões feitas para cada combinação de valores reais e preditos.\n",
        "\n",
        "- Os valores na diagonal (de TN a TP) indicam as previsões corretas.\n",
        "\n",
        "- Os valores fora da diagonal indicam os erros de classificação:\n",
        " - FN (célula inferior esquerda): Casos reais de aprovação que foram previstos como não aprovados.\n",
        " - FP (célula superior direita): Casos reais de não aprovação que foram previstos como aprovados."
      ],
      "metadata": {
        "id": "JnWI8IqWja20"
      }
    }
  ]
}